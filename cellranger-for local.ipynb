{
 "cells": [
  {
   "cell_type": "code",
   "execution_count": null,
   "id": "f0c131a4",
   "metadata": {},
   "outputs": [],
   "source": [
    "import sys\n",
    "import os\n",
    "import csv\n",
    "\n",
    "wdir ='/data/juyoung/scRNAseq'\n",
    "os.chdir(wdir)\n",
    "\n",
    "sample_names = sys.argv[1]\n",
    "fastq_dir= sys.argv[2]\n",
    "transcriptome_dir=sys.argv[3] \n",
    "\n",
    "new_dir = sys.argv[4]\n",
    "\n",
    "os.makedirs(new_dir,exist_ok=True) #새로운 프로젝트에대한 dir생성\n",
    "os.chdir(new_dir)\n",
    "wdir=os.getcwd()\n",
    "os.makedirs('./run_cellranger_count',exist_ok=True)#count파일을 담을 dir생성\n",
    "\n",
    "sample_names = sample_names.strip('[').strip(']').split(',') #[,,]이런식으로 입력을 받기 때문에 필요함\n",
    "\n",
    "os.chdir('./run_cellranger_count')\n",
    "\n",
    "count_dir = os.getcwd()\n",
    "\n",
    "for sample in sample_names:\n",
    "    ids = sample.split('-')#[1058B,10xp]\n",
    "    Id = 'run_count_'+ids[0]+ids[1][-1]\n",
    "    os.system('cellranger count --id '+Id +' --fastqs='+fastq_dir+' --sample='+sample+' --transcriptome='+transcriptome_dir)\n",
    "    \n",
    "'''    \n",
    "> example\n",
    "python3 scRNAseq2.py [1058B-10xP,1058B-10xT] /data/juyoung/rawdata/ /data/juyoung/refdata-gex-GRCh38-2020-A /data/juyoung/scRNAseq/ test2/\n",
    "\n",
    "> cellranger 공식 홈페이지의 tutorial대로 만듬\n",
    "> cellranger option\n",
    "--id : directory가 만들어질건데 거기에 쓸 이름 \n",
    "--fastqs : raw data가 있는 위치\n",
    "--sample : fastq파일의 이름의 앞쪽 글자! 다른 샘플파일과 구분할 수 있는 것까지 쓰면 됨 \n",
    "--transcriptome : cell ranger reference ! 다운은 아래링크에서 받음\n",
    "* #https://support.10xgenomics.com/single-cell-gene-expression/software/pipelines/latest/using/tutorial_ct#:~:text=transcriptome.%20From%20the-,download%20page,-for%20the%20FASTQ\n",
    "\n",
    "\n",
    "> 최종파일은\n",
    "프로젝트명 > id dir > outs > filterd ~ > 3개의 파일이 있음 \n",
    "\n",
    "이 파일은 서버에서 한꺼번에 돌리고 로컬r에서 합치기위한것 \n"
   ]
  }
 ],
 "metadata": {
  "kernelspec": {
   "display_name": "Python 3",
   "language": "python",
   "name": "python3"
  },
  "language_info": {
   "codemirror_mode": {
    "name": "ipython",
    "version": 3
   },
   "file_extension": ".py",
   "mimetype": "text/x-python",
   "name": "python",
   "nbconvert_exporter": "python",
   "pygments_lexer": "ipython3",
   "version": "3.8.8"
  }
 },
 "nbformat": 4,
 "nbformat_minor": 5
}

{
 "cells": [
  {
   "cell_type": "code",
   "execution_count": 1,
   "id": "b2751652",
   "metadata": {},
   "outputs": [
    {
     "name": "stdout",
     "output_type": "stream",
     "text": [
      "Requirement already satisfied: beautifulsoup4 in ./opt/anaconda3/lib/python3.8/site-packages (4.9.3)\n",
      "Requirement already satisfied: soupsieve>1.2 in ./opt/anaconda3/lib/python3.8/site-packages (from beautifulsoup4) (2.2.1)\n",
      "Note: you may need to restart the kernel to use updated packages.\n"
     ]
    }
   ],
   "source": [
    "pip install beautifulsoup4"
   ]
  },
  {
   "cell_type": "code",
   "execution_count": null,
   "id": "22072302",
   "metadata": {},
   "outputs": [],
   "source": [
    "import requests\n",
    "from bs4 import BeautifulSoup\n"
   ]
  },
  {
   "cell_type": "markdown",
   "id": "1520346b",
   "metadata": {},
   "source": [
    "import pyautogui"
   ]
  },
  {
   "cell_type": "code",
   "execution_count": 24,
   "id": "4271e021",
   "metadata": {},
   "outputs": [
    {
     "name": "stdout",
     "output_type": "stream",
     "text": [
      "Size(width=1920, height=1080)\n",
      "1326\n",
      "889\n"
     ]
    }
   ],
   "source": [
    "position = pyautogui.position() #마우스 있는 위치의 좌표 객체 얻기\n",
    "\n",
    "print(pyautogui.size()) #화면 전체 크기 확인하기\n",
    "\n",
    "print(position.x)\n",
    "print(position.y)\n",
    "\n",
    "pyautogui.moveTo(500,500,2)#마우스 원하는 위치로 이동, 몇초만에 이동할지 결정(,,2)\n",
    "pyautogui.moveRel(200,300,2)#현재위치에서 마우스 이동\n",
    "\n",
    "pyautogui.click() #마우스 클릭\n",
    "\n",
    "pyautogui.click(clicks=2, interval=2) #2초 간격으로 2번 클릭 \n",
    "\n",
    "pyautogui.doubleClick() #더블클릭\n",
    "\n",
    "pyautogui.scroll(10)\n",
    "\n",
    "pyautogui.drag(5,300,1, button='left') # 1은 드래그하는데 걸리는시간, 300이 드래그 하는 정도인것같아, 5는 드래그할때 어느정도로 사선으로 쓸어 내릴 건지 같은디? "
   ]
  },
  {
   "cell_type": "raw",
   "id": "73e77e77",
   "metadata": {},
   "source": [
    "pyautogui.write('hello world!')\n",
    "pyautogui.write('hello world~', interval=0.25)"
   ]
  },
  {
   "cell_type": "code",
   "execution_count": 27,
   "id": "baea0be0",
   "metadata": {},
   "outputs": [],
   "source": [
    "import pyperclip \n",
    "#한글은 pyautogui로 쓸 수 없어서 pyperclip모듈을 통해 한글을 복사 후 입력할 수 있음\n",
    "pyperclip.copy('안녕')\n",
    "pyautogui.hotkey('ctrl','v')"
   ]
  },
  {
   "cell_type": "code",
   "execution_count": 3,
   "id": "9a85fafb",
   "metadata": {},
   "outputs": [
    {
     "name": "stdout",
     "output_type": "stream",
     "text": [
      "Cancel\n"
     ]
    }
   ],
   "source": [
    "import pyautogui as pg\n",
    "a=pg.alert(text='비행기를 타시겠습니까?',title='11월6일 행',button='OK')\n",
    "\n",
    "a=pg.confirm(text='비행기를 타시겠습니까?',title='11월6일 행',buttons=['OK','Cancel'])\n",
    "print(a)"
   ]
  },
  {
   "cell_type": "code",
   "execution_count": 4,
   "id": "5a703828",
   "metadata": {},
   "outputs": [
    {
     "name": "stdout",
     "output_type": "stream",
     "text": [
      "안뇽\n"
     ]
    }
   ],
   "source": [
    "import pyautogui as pg\n",
    "\n",
    "a=pg.prompt(text='아무거나',title='write',default='적어')\n",
    "print(a)"
   ]
  },
  {
   "cell_type": "code",
   "execution_count": 6,
   "id": "5bc2e1c5",
   "metadata": {},
   "outputs": [
    {
     "name": "stdout",
     "output_type": "stream",
     "text": [
      "ㅇㅏㄴ녕\n"
     ]
    }
   ],
   "source": [
    "a = pg.password(text='password',title='비번쓰기',default='입력하세요',mask='*')\n",
    "print(a)"
   ]
  },
  {
   "cell_type": "code",
   "execution_count": 13,
   "id": "cbdc52a2",
   "metadata": {},
   "outputs": [],
   "source": [
    "import pyautogui as pg\n",
    "\n",
    "button5location = pg.locateOnScreen('/Users/juyoung/Desktop/5.png')\n",
    "#위 자체의 출력은 이 이미지의 x,y좌표 너비ㅣ 높이 좌표를 나타내고\n",
    "point=pg.center(button5location) #이거는 그 숫자 5의 중앙 포인트를 가르키는듯\n",
    "pg.moveTo(point)\n",
    "pg.click()"
   ]
  },
  {
   "cell_type": "code",
   "execution_count": 21,
   "id": "1c462f63",
   "metadata": {},
   "outputs": [
    {
     "name": "stdout",
     "output_type": "stream",
     "text": [
      "Species\n"
     ]
    }
   ],
   "source": [
    "import requests\n",
    "from bs4 import BeautifulSoup\n",
    "\n",
    "url = 'http://bio-bigdata.hrbmu.edu.cn/CellMarker/search.jsp?quickSearchInfo=GNLY'\n",
    "\n",
    "respons = requests.get(url)\n",
    "\n",
    "if respons.status_code == 200: #     \n",
    "    html = respons.text\n",
    "    soup = BeautifulSoup(html,'html.parser')\n",
    "    title = soup.select_one('#CellSearchForm > div:nth-child(1) > div > label')\n",
    "    print(title.get_text())\n",
    "else:\n",
    "    print(response.status_code)\n",
    "\n",
    "\n",
    "\n"
   ]
  },
  {
   "cell_type": "code",
   "execution_count": 2,
   "id": "55c15590",
   "metadata": {},
   "outputs": [
    {
     "name": "stdout",
     "output_type": "stream",
     "text": [
      "Collecting opencv-python\n",
      "  Downloading opencv_python-4.5.3.56-cp38-cp38-macosx_10_15_x86_64.whl (42.6 MB)\n",
      "\u001b[K     |████████████████████████████████| 42.6 MB 13.7 MB/s eta 0:00:01\n",
      "\u001b[?25hRequirement already satisfied: numpy>=1.17.3 in ./opt/anaconda3/lib/python3.8/site-packages (from opencv-python) (1.20.1)\n",
      "Installing collected packages: opencv-python\n",
      "Successfully installed opencv-python-4.5.3.56\n",
      "Note: you may need to restart the kernel to use updated packages.\n"
     ]
    }
   ],
   "source": [
    "pip install opencv-python"
   ]
  },
  {
   "cell_type": "code",
   "execution_count": 17,
   "id": "a601f1ce",
   "metadata": {},
   "outputs": [
    {
     "name": "stdout",
     "output_type": "stream",
     "text": [
      "[['GNLY', 'NKG7', 'FGFBP2', 'PRF1', 'GZMB'], ['PPBP', 'GPX1', 'TUBA4A', 'NCOA4', 'STMN1'], ['LYZ', 'S100A9', 'S100A8', 'AIF1', 'CST3'], ['MS4A1', 'IGHM', 'CD79A', 'HLA-DQA1', 'CD83'], ['IGLC2', 'IGLC3', 'IGKC', 'HSPA1B', 'DNAJB1'], ['NKG7', 'GZMH', 'CMC1', 'CCL5', 'GZMA'], ['KLRB1', 'PCED1B-AS1', 'TXNIP', 'RPL17', 'GAS5'], ['CD8A', 'STMN1', 'LDHA', 'HIST1H4C', 'DUSP4'], ['PCED1B-AS1', 'KLRB1', 'CMC1', 'PLAAT4', 'TRAC'], ['COL1A1', 'COL3A1', 'COL1A2', 'CXCL14', 'IGFBP7'], ['CXCL8', 'IL1B', 'SOD2', 'CXCL3', 'C15orf48'], ['IGKV3-20', 'IGKV1-9', 'IGKV3-11', 'IGKV1-5', 'IGKV3-15'], ['IGFBP7', 'TM4SF1', 'IFI27', 'SPARCL1', 'COL4A1'], ['PLEK', 'KLRD1', 'NKG7', 'GNLY', 'KLRB1'], ['PLAAT4', 'PCED1B-AS1', 'MALAT1', 'C1orf56', 'KLRB1'], ['PRSS23', 'GNLY', 'NKG7', 'FGFBP2', 'KLRD1'], ['MTRNR2L12', 'MALAT1', 'RPS10', 'RPL27A', 'RPL13A'], ['KLRB1', 'EMP3', 'ATP5F1E', 'MALAT1', 'RPL17'], ['HBB', 'FYB1', 'RPS29', 'MALAT1', 'GNLY'], ['FGFBP2', 'NKG7', 'MALAT1', 'RPL17', 'MT-ND4'], ['KLRF1', 'HBB', 'CCL5', 'RPS29', 'MALAT1'], ['HBB', 'RPS20', 'HBA2', 'HBA1', 'MALAT1'], ['SNHG6', 'HBB', 'PCED1B-AS1', 'OST4', 'HBA1'], ['GIMAP5', 'IL7R', 'MALAT1']]\n"
     ]
    }
   ],
   "source": [
    "#1.cluster, gene 이중 리스트 만들기\n",
    "#local cellmarker로 만듬\n",
    "#findallmarker 쓸일있을 때 사용\n",
    "\n",
    "import pandas as pd\n",
    "find_marker=pd.read_csv('/Users/juyoung/Desktop/immunotherapy_jy/singlecell_jy/data/server_all_findMarker.csv')\n",
    "find_marker=find_marker[['cluster','gene']]\n",
    "\n",
    "total_num=find_marker.shape[0]\n",
    "cluster_num=0\n",
    "lists=[]\n",
    "l=[]\n",
    "for i in range(total_num):\n",
    "    num=find_marker['cluster'][i]\n",
    "    gene=find_marker['gene'][i]\n",
    "    if (cluster_num == num):\n",
    "            l.append(gene)\n",
    "    else:\n",
    "        lists.append(l)\n",
    "        l=list()\n",
    "        l.append(gene)\n",
    "        cluster_num +=1\n",
    "lists.append(l)\n",
    "print(lists)\n"
   ]
  },
  {
   "cell_type": "code",
   "execution_count": 6,
   "id": "0e90700d",
   "metadata": {},
   "outputs": [],
   "source": [
    "import pyautogui as pg\n",
    "import cv2\n",
    "import os\n",
    "import shutil\n",
    "from pathlib import Path\n",
    "import pyautogui\n",
    "\n",
    "#project마다 dir생성\n",
    "project = 'cluster_23_immunotherapy_all'\n",
    "\n",
    "#os.makedirs('/Users/juyoung/Desktop/immunotherapy_jy/singlecell_jy/cellmarker/'+project)\n",
    "wd='/Users/juyoung/Desktop/immunotherapy_jy/singlecell_jy/cellmarker/'+project\n",
    "\n",
    "#for i in range(len(lists)):\n",
    "#    ndir=wd+'/cluster'+str(i)\n",
    "#    os.makedirs(ndir)\n",
    "\n",
    "search = pg.locateOnScreen('/Users/juyoung/Desktop/search.png',confidence=0.7)\n",
    "submit = pg.locateOnScreen('/Users/juyoung/Desktop/submit.png',confidence=0.7)\n",
    "excel = pg.locateOnScreen('/Users/juyoung/Desktop/excel.png',confidence=0.7)\n",
    "csv = pg.locateOnScreen('/Users/juyoung/Desktop/csv.png',confidence=0.7)\n",
    "\n",
    "def init(search):\n",
    "    point=pg.center(search) \n",
    "    pg.moveTo(point)\n",
    "    pg.click()\n",
    "    pg.drag(-200,0,0,button='left')\n",
    "    pg.hotkey('delete')\n",
    "    return point\n",
    "\n",
    "def write(gene):\n",
    "    pg.moveTo(point)\n",
    "    pg.click()\n",
    "    pg.write(gene)\n",
    "\n",
    "def submit_button(submit):\n",
    "    pyautogui.moveTo(1800,500)\n",
    "    pg.click()\n",
    "    point=pg.center(submit) \n",
    "    pg.moveTo(point)\n",
    "    pg.doubleClick()\n",
    "    \n",
    "def excel_down(excel):\n",
    "    pg.sleep(3)\n",
    "    pg.scroll(-12)\n",
    "    excel=pg.locateOnScreen('/Users/juyoung/Desktop/excel.png',confidence=0.7)\n",
    "    point=pg.center(excel)\n",
    "    pg.moveTo(point)\n",
    "    pg.click()\n",
    "    pg.sleep(3)\n",
    "\n",
    "def csv_down(csv):\n",
    "    csv=pg.locateOnScreen('/Users/juyoung/Desktop/csv.png',confidence=0.7)\n",
    "    point=pg.center(csv)\n",
    "    pg.moveTo(point)\n",
    "    pg.click()\n",
    "    pg.sleep(3)\n",
    "\n",
    "\n",
    "def reset():\n",
    "    pg.sleep(1)\n",
    "    pg.scroll(50)\n",
    "\n",
    "def excel_rename(gene,ndir):\n",
    "    os.rename('/Users/juyoung/Downloads/CellMarker.xlsx',\n",
    "             '/Users/juyoung/Downloads/'+gene+'.xlsx')\n",
    "    shutil.move('/Users/juyoung/Downloads/'+gene+'.xlsx',wd+'/cluster'+str(ndir))\n",
    "def csv_rename(gene,ndir):\n",
    "    os.rename('/Users/juyoung/Downloads/CellMarker.csv','/Users/juyoung/Downloads/'+gene+'.csv')\n",
    "    shutil.move('/Users/juyoung/Downloads/'+gene+'.csv',wd+'cluster'+str(ndir))\n",
    "\n",
    "\n",
    "for i in range(len(lists)):\n",
    "    for gene in lists[i]:\n",
    "        point=init(search)\n",
    "        write(gene)    \n",
    "        submit_button(submit)\n",
    "        try:\n",
    "            excel_down(excel)\n",
    "            try:\n",
    "                excel_rename(gene,i)\n",
    "            except:\n",
    "                csv_down(csv) #Excel키를 못찾을 때\n",
    "                csv_rename(gene,i)\n",
    "      \n",
    "        except:\n",
    "            print('there is no ',gene)#검색결과가 없을 때 \n",
    "        \n",
    "        reset() \n",
    "        "
   ]
  },
  {
   "cell_type": "markdown",
   "id": "50cf8934",
   "metadata": {},
   "source": [
    "'''\n",
    "there is no  PLAAT4\n",
    "there is no  IGKV1-9\n",
    "there is no  IGKV3-11\n",
    "there is no  PLAAT4\n",
    "\n",
    "\n",
    "there is no  PLAAT4\n",
    "there is no  HBA2\n",
    "'''\n",
    "g.i"
   ]
  },
  {
   "cell_type": "code",
   "execution_count": 9,
   "id": "cdd9ca8a",
   "metadata": {},
   "outputs": [
    {
     "name": "stdout",
     "output_type": "stream",
     "text": [
      "[('Natural killer T (NKT) cell',), ('Natural killer cell',)]\n",
      "[('Microglial cell',), ('Natural killer T (NKT) cell',), ('Oogenesis phase fetal germ cell',)]\n",
      "[('Monocyte',)]\n",
      "[('B cell',)]\n",
      "[('B cell',)]\n",
      "[('Natural killer T (NKT) cell',), ('Natural killer cell',)]\n",
      "[('Natural killer cell',)]\n",
      "[('T cell',)]\n",
      "[('Natural killer T (NKT) cell',), ('Natural killer cell',)]\n",
      "[('DCLK1+ progenitor cell',), ('Natural killer T (NKT) cell',)]\n",
      "[('Neutrophil',)]\n",
      "[('B cell',)]\n",
      "[('Astrocyte',)]\n",
      "[('Natural killer cell',)]\n",
      "[('Natural killer cell',)]\n",
      "[('Natural killer cell',)]\n",
      "[('Natural killer T (NKT) cell',)]\n",
      "[('Natural killer cell',)]\n",
      "[('Natural killer T (NKT) cell',)]\n",
      "[('Natural killer T (NKT) cell',), ('Natural killer cell',)]\n",
      "[('Natural killer T (NKT) cell',)]\n",
      "[('Red blood cell (erythrocyte)',)]\n",
      "[('Red blood cell (erythrocyte)',)]\n",
      "[('T helper cell',)]\n"
     ]
    }
   ],
   "source": [
    "import os\n",
    "import numpy as np\n",
    "import pandas as pd\n",
    "\n",
    "def cluster_make(num):\n",
    "    clusters=[]\n",
    "    for i in range(num):\n",
    "        clusters.append('/cluster'+str(i)+'/')\n",
    "    return(clusters)\n",
    "\n",
    "def df_freq(df,gene):\n",
    "    freq=pd.DataFrame(df[['Cell Type']].value_counts())\n",
    "    freq.columns=[gene]\n",
    "    return freq\n",
    "\n",
    "def df_join(old,new):\n",
    "    old=old.join(new, how='outer')\n",
    "    old=old.replace(np.nan,0)\n",
    "    \n",
    "    return old\n",
    "\n",
    "def df_max(old):\n",
    "    s=pd.DataFrame(old.sum(axis=1))\n",
    "    s.columns=['sum']\n",
    "    \n",
    "    old=old.join(s)\n",
    "    return old\n",
    "\n",
    "def df_celltype(df):\n",
    "    M=int(df['sum'].max())\n",
    "    result=list(df[df['sum'] == M ].index)\n",
    "   \n",
    "    return (result)\n",
    "\n",
    "    \n",
    "\n",
    "clusters=cluster_make(24)\n",
    "\n",
    "for cluster in clusters:\n",
    "    nwd=wd+cluster\n",
    "    gene_list=os.listdir(nwd)\n",
    "    \n",
    "    if'.DS_Store' in gene_list: gene_list.remove('.DS_Store')\n",
    "    \n",
    "    for i in range(len(gene_list)):  \n",
    "        file=gene_list[i]\n",
    "        gene=file[:-5]\n",
    "        \n",
    "        g=pd.read_excel(nwd+file)\n",
    "        if g.iloc[0,0] == 'Species':\n",
    "            g=pd.read_excel(nwd+file,header=1)\n",
    "        if i==0:\n",
    "            freq=df_freq(g,gene)\n",
    "        else:\n",
    "            gd=df_freq(g,gene)\n",
    "            freq=df_join(freq,gd)\n",
    "    \n",
    "    freq=df_max(freq)\n",
    "    #print('cell type of' ,cluster[1:-1],df_celltype(freq))\n",
    "    print(df_celltype(freq))\n",
    "   \n",
    "    \n",
    "\n",
    "#cluster4,11에 안읽히는 파일 2개 있었음..음 \n"
   ]
  },
  {
   "cell_type": "code",
   "execution_count": 12,
   "id": "3f481567",
   "metadata": {},
   "outputs": [],
   "source": [
    "lists=[['HLA-DRB5','HLA-DRB1','HLA-DPA1','HLA-DPB1' ]]"
   ]
  },
  {
   "cell_type": "code",
   "execution_count": 103,
   "id": "a1600b22",
   "metadata": {},
   "outputs": [
    {
     "data": {
      "text/plain": [
       "0"
      ]
     },
     "execution_count": 103,
     "metadata": {},
     "output_type": "execute_result"
    }
   ],
   "source": [
    "#파이썬에서 변수 동적 생성\n",
    "import sys\n",
    "mod =sys.modules[__name__]\n",
    "\n",
    "for i in range(2):\n",
    "    setattr(mod, 'cluster_{}'.format(i+1),i)\n",
    "\n",
    "for i in range(2): #받기\n",
    "    print(getattr(mod, 'cluster_{}'.format(i+1)))\n",
    "#\n"
   ]
  },
  {
   "cell_type": "code",
   "execution_count": 14,
   "id": "79562efc",
   "metadata": {},
   "outputs": [
    {
     "data": {
      "text/plain": [
       "'/Users/juyoung/Desktop/immunotherapy_jy/singlecell_jy/cellmarker/cluster_23_immunotherapy_all/cluster3/add'"
      ]
     },
     "execution_count": 14,
     "metadata": {},
     "output_type": "execute_result"
    }
   ],
   "source": [
    "wd"
   ]
  },
  {
   "cell_type": "code",
   "execution_count": null,
   "id": "685d6753",
   "metadata": {},
   "outputs": [],
   "source": []
  },
  {
   "cell_type": "code",
   "execution_count": null,
   "id": "86d1a6c6",
   "metadata": {},
   "outputs": [],
   "source": []
  }
 ],
 "metadata": {
  "kernelspec": {
   "display_name": "Python 3",
   "language": "python",
   "name": "python3"
  },
  "language_info": {
   "codemirror_mode": {
    "name": "ipython",
    "version": 3
   },
   "file_extension": ".py",
   "mimetype": "text/x-python",
   "name": "python",
   "nbconvert_exporter": "python",
   "pygments_lexer": "ipython3",
   "version": "3.8.8"
  }
 },
 "nbformat": 4,
 "nbformat_minor": 5
}
